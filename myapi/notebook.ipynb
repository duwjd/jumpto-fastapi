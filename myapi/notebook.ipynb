{
 "cells": [
  {
   "cell_type": "code",
   "execution_count": 2,
   "id": "7bdfe61c",
   "metadata": {},
   "outputs": [],
   "source": [
    "from models import Question, Answer\n",
    "from datetime import datetime\n",
    "from database import SessionLocal"
   ]
  },
  {
   "cell_type": "code",
   "execution_count": null,
   "id": "e939e07e",
   "metadata": {},
   "outputs": [],
   "source": [
    "#로컬디비 연결하기\n",
    "db = SessionLocal()"
   ]
  },
  {
   "cell_type": "markdown",
   "id": "d339b776",
   "metadata": {},
   "source": [
    "### 검색 정규표현식\n",
    "* FastAPI% : \"FastAPI\"로 시작하는 문자열\n",
    "* %FastAPI : \"FastAPI\"로 끝나는 문자열\n",
    "* %FastAPI% : \"FastAPI\"를 포함하는 문자열\n",
    "\n",
    "\n",
    "참고 : 알파벳 대소문자를 구분하지 않고 문자열을 찾으려면 like 대신 ilike함수를 사용한다.\n",
    "\n",
    "https://docs.sqlalchemy.org/en/14/orm/query.html"
   ]
  },
  {
   "cell_type": "code",
   "execution_count": 9,
   "id": "63d504b2",
   "metadata": {},
   "outputs": [
    {
     "data": {
      "text/plain": [
       "[<models.Question at 0x10771c610>]"
      ]
     },
     "execution_count": 9,
     "metadata": {},
     "output_type": "execute_result"
    }
   ],
   "source": [
    "#검색하기 ㅣ #질문 제목에 '뭐해'가 포함된 질문을 찾기\n",
    "db.query(Question).filter(Question.subject.like('%뭐해%')).all()"
   ]
  },
  {
   "cell_type": "markdown",
   "id": "76acab75",
   "metadata": {},
   "source": [
    "## 질문 데이터 수정하기\n",
    "대입 연산자만 사용하면 됨"
   ]
  },
  {
   "cell_type": "code",
   "execution_count": 11,
   "id": "952ec951",
   "metadata": {},
   "outputs": [
    {
     "name": "stdout",
     "output_type": "stream",
     "text": [
      "q.id : 1, q.subject : pybo가 무엇인가요?, q.content : pybo에 대해서 알고 싶습니다., q.create_date : 2025-08-21 13:24:01.253046\n"
     ]
    }
   ],
   "source": [
    "q = db.get(Question, 1)\n",
    "print(f\"q.id : {q.id}, q.subject : {q.subject}, q.content : {q.content}, q.create_date : {q.create_date}\")"
   ]
  },
  {
   "cell_type": "code",
   "execution_count": null,
   "id": "829a29fc",
   "metadata": {},
   "outputs": [],
   "source": [
    "#데이터 수정하기\n",
    "q.subject = \"pybo에 대해 알아보기\"\n",
    "db.commit()"
   ]
  },
  {
   "cell_type": "code",
   "execution_count": 13,
   "id": "c62a58a6",
   "metadata": {},
   "outputs": [
    {
     "name": "stdout",
     "output_type": "stream",
     "text": [
      "q.id : 1, q.subject : pybo에 대해 알아보기, q.content : pybo에 대해서 알고 싶습니다., q.create_date : 2025-08-21 13:24:01.253046\n"
     ]
    }
   ],
   "source": [
    "print(f\"q.id : {q.id}, q.subject : {q.subject}, q.content : {q.content}, q.create_date : {q.create_date}\")"
   ]
  },
  {
   "cell_type": "markdown",
   "id": "f845ca8a",
   "metadata": {},
   "source": [
    "## 데이터 삭제하기\n",
    "```db.delete()```"
   ]
  },
  {
   "cell_type": "code",
   "execution_count": 14,
   "id": "f7e62896",
   "metadata": {},
   "outputs": [],
   "source": [
    "q = db.get(Question,2)\n",
    "db.delete(q)\n",
    "db.commit()"
   ]
  },
  {
   "cell_type": "code",
   "execution_count": 15,
   "id": "f4daca6f",
   "metadata": {},
   "outputs": [
    {
     "data": {
      "text/plain": [
       "[<models.Question at 0x107193fd0>]"
      ]
     },
     "execution_count": 15,
     "metadata": {},
     "output_type": "execute_result"
    }
   ],
   "source": [
    "db.query(Question).all()"
   ]
  },
  {
   "cell_type": "code",
   "execution_count": null,
   "id": "d7d24242",
   "metadata": {},
   "outputs": [],
   "source": []
  }
 ],
 "metadata": {
  "kernelspec": {
   "display_name": "myapi (3.11.11)",
   "language": "python",
   "name": "python3"
  },
  "language_info": {
   "codemirror_mode": {
    "name": "ipython",
    "version": 3
   },
   "file_extension": ".py",
   "mimetype": "text/x-python",
   "name": "python",
   "nbconvert_exporter": "python",
   "pygments_lexer": "ipython3",
   "version": "3.11.11"
  }
 },
 "nbformat": 4,
 "nbformat_minor": 5
}
