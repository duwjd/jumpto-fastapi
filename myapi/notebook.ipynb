{
 "cells": [
  {
   "cell_type": "code",
   "execution_count": 2,
   "id": "7bdfe61c",
   "metadata": {},
   "outputs": [],
   "source": [
    "from models import Question, Answer\n",
    "from datetime import datetime\n",
    "from database import SessionLocal"
   ]
  },
  {
   "cell_type": "code",
   "execution_count": 3,
   "id": "e939e07e",
   "metadata": {},
   "outputs": [],
   "source": [
    "#로컬디비 연결하기\n",
    "db = SessionLocal()"
   ]
  },
  {
   "cell_type": "markdown",
   "id": "d339b776",
   "metadata": {},
   "source": [
    "### 검색 정규표현식\n",
    "* FastAPI% : \"FastAPI\"로 시작하는 문자열\n",
    "* %FastAPI : \"FastAPI\"로 끝나는 문자열\n",
    "* %FastAPI% : \"FastAPI\"를 포함하는 문자열\n",
    "\n",
    "\n",
    "참고 : 알파벳 대소문자를 구분하지 않고 문자열을 찾으려면 like 대신 ilike함수를 사용한다.\n",
    "\n",
    "https://docs.sqlalchemy.org/en/14/orm/query.html"
   ]
  },
  {
   "cell_type": "code",
   "execution_count": 4,
   "id": "63d504b2",
   "metadata": {},
   "outputs": [
    {
     "data": {
      "text/plain": [
       "[]"
      ]
     },
     "execution_count": 4,
     "metadata": {},
     "output_type": "execute_result"
    }
   ],
   "source": [
    "#검색하기 ㅣ #질문 제목에 '뭐해'가 포함된 질문을 찾기\n",
    "db.query(Question).filter(Question.subject.like('%뭐해%')).all()"
   ]
  },
  {
   "cell_type": "markdown",
   "id": "76acab75",
   "metadata": {},
   "source": [
    "## 질문 데이터 수정하기\n",
    "대입 연산자만 사용하면 됨"
   ]
  },
  {
   "cell_type": "code",
   "execution_count": 5,
   "id": "952ec951",
   "metadata": {},
   "outputs": [
    {
     "name": "stdout",
     "output_type": "stream",
     "text": [
      "q.id : 1, q.subject : pybo에 대해 알아보기, q.content : pybo에 대해서 알고 싶습니다., q.create_date : 2025-08-21 13:24:01.253046\n"
     ]
    }
   ],
   "source": [
    "q = db.get(Question, 1)\n",
    "print(f\"q.id : {q.id}, q.subject : {q.subject}, q.content : {q.content}, q.create_date : {q.create_date}\")"
   ]
  },
  {
   "cell_type": "code",
   "execution_count": 6,
   "id": "829a29fc",
   "metadata": {},
   "outputs": [],
   "source": [
    "#데이터 수정하기\n",
    "q.subject = \"pybo에 대해 알아보기\"\n",
    "db.commit()"
   ]
  },
  {
   "cell_type": "code",
   "execution_count": 7,
   "id": "c62a58a6",
   "metadata": {},
   "outputs": [
    {
     "name": "stdout",
     "output_type": "stream",
     "text": [
      "q.id : 1, q.subject : pybo에 대해 알아보기, q.content : pybo에 대해서 알고 싶습니다., q.create_date : 2025-08-21 13:24:01.253046\n"
     ]
    }
   ],
   "source": [
    "print(f\"q.id : {q.id}, q.subject : {q.subject}, q.content : {q.content}, q.create_date : {q.create_date}\")"
   ]
  },
  {
   "cell_type": "markdown",
   "id": "f845ca8a",
   "metadata": {},
   "source": [
    "## 데이터 삭제하기\n",
    "```db.delete()```"
   ]
  },
  {
   "cell_type": "code",
   "execution_count": 8,
   "id": "f7e62896",
   "metadata": {},
   "outputs": [
    {
     "ename": "UnmappedInstanceError",
     "evalue": "Class 'builtins.NoneType' is not mapped",
     "output_type": "error",
     "traceback": [
      "\u001b[31m---------------------------------------------------------------------------\u001b[39m",
      "\u001b[31mAttributeError\u001b[39m                            Traceback (most recent call last)",
      "\u001b[36mFile \u001b[39m\u001b[32m~/Documents/jumpto-Fastapi/myapi/lib/python3.11/site-packages/sqlalchemy/orm/session.py:3538\u001b[39m, in \u001b[36mSession.delete\u001b[39m\u001b[34m(self, instance)\u001b[39m\n\u001b[32m   3537\u001b[39m \u001b[38;5;28;01mtry\u001b[39;00m:\n\u001b[32m-> \u001b[39m\u001b[32m3538\u001b[39m     state = \u001b[43mattributes\u001b[49m\u001b[43m.\u001b[49m\u001b[43minstance_state\u001b[49m\u001b[43m(\u001b[49m\u001b[43minstance\u001b[49m\u001b[43m)\u001b[49m\n\u001b[32m   3539\u001b[39m \u001b[38;5;28;01mexcept\u001b[39;00m exc.NO_STATE \u001b[38;5;28;01mas\u001b[39;00m err:\n",
      "\u001b[31mAttributeError\u001b[39m: 'NoneType' object has no attribute '_sa_instance_state'",
      "\nThe above exception was the direct cause of the following exception:\n",
      "\u001b[31mUnmappedInstanceError\u001b[39m                     Traceback (most recent call last)",
      "\u001b[36mCell\u001b[39m\u001b[36m \u001b[39m\u001b[32mIn[8]\u001b[39m\u001b[32m, line 2\u001b[39m\n\u001b[32m      1\u001b[39m q = db.get(Question,\u001b[32m2\u001b[39m)\n\u001b[32m----> \u001b[39m\u001b[32m2\u001b[39m \u001b[43mdb\u001b[49m\u001b[43m.\u001b[49m\u001b[43mdelete\u001b[49m\u001b[43m(\u001b[49m\u001b[43mq\u001b[49m\u001b[43m)\u001b[49m\n\u001b[32m      3\u001b[39m db.commit()\n",
      "\u001b[36mFile \u001b[39m\u001b[32m~/Documents/jumpto-Fastapi/myapi/lib/python3.11/site-packages/sqlalchemy/orm/session.py:3540\u001b[39m, in \u001b[36mSession.delete\u001b[39m\u001b[34m(self, instance)\u001b[39m\n\u001b[32m   3538\u001b[39m     state = attributes.instance_state(instance)\n\u001b[32m   3539\u001b[39m \u001b[38;5;28;01mexcept\u001b[39;00m exc.NO_STATE \u001b[38;5;28;01mas\u001b[39;00m err:\n\u001b[32m-> \u001b[39m\u001b[32m3540\u001b[39m     \u001b[38;5;28;01mraise\u001b[39;00m exc.UnmappedInstanceError(instance) \u001b[38;5;28;01mfrom\u001b[39;00m\u001b[38;5;250m \u001b[39m\u001b[34;01merr\u001b[39;00m\n\u001b[32m   3542\u001b[39m \u001b[38;5;28mself\u001b[39m._delete_impl(state, instance, head=\u001b[38;5;28;01mTrue\u001b[39;00m)\n",
      "\u001b[31mUnmappedInstanceError\u001b[39m: Class 'builtins.NoneType' is not mapped"
     ]
    }
   ],
   "source": [
    "q = db.get(Question,2)\n",
    "db.delete(q)\n",
    "db.commit()"
   ]
  },
  {
   "cell_type": "code",
   "execution_count": 9,
   "id": "f4daca6f",
   "metadata": {},
   "outputs": [
    {
     "data": {
      "text/plain": [
       "[<models.Question at 0x11cbdbcd0>]"
      ]
     },
     "execution_count": 9,
     "metadata": {},
     "output_type": "execute_result"
    }
   ],
   "source": [
    "db.query(Question).all()"
   ]
  },
  {
   "cell_type": "markdown",
   "id": "6ccd8fa3",
   "metadata": {},
   "source": [
    "## Answer 데이터 저장하기"
   ]
  },
  {
   "cell_type": "markdown",
   "id": "c9ed128b",
   "metadata": {},
   "source": [
    "- 답변을 생성하려면 연결할 질문이 필요하므로 우선 id가 1인 질문을 조회하여 q에 저장\n",
    "- Answer 모델의 question 속성에 방금 조회한 q 객체를 대입해 답변 생성"
   ]
  },
  {
   "cell_type": "code",
   "execution_count": 10,
   "id": "65cb02df",
   "metadata": {},
   "outputs": [
    {
     "data": {
      "text/plain": [
       "<models.Question at 0x11cbdbcd0>"
      ]
     },
     "execution_count": 10,
     "metadata": {},
     "output_type": "execute_result"
    }
   ],
   "source": [
    "q = db.get(Question, 1)\n",
    "q"
   ]
  },
  {
   "cell_type": "code",
   "execution_count": 11,
   "id": "d7d24242",
   "metadata": {},
   "outputs": [],
   "source": [
    "a = Answer(question=q, content=\"넵\", create_date=datetime.now())\n",
    "db.add(a)\n",
    "db.commit()"
   ]
  },
  {
   "cell_type": "code",
   "execution_count": 12,
   "id": "543c2a05",
   "metadata": {},
   "outputs": [
    {
     "data": {
      "text/plain": [
       "3"
      ]
     },
     "execution_count": 12,
     "metadata": {},
     "output_type": "execute_result"
    }
   ],
   "source": [
    "a.id"
   ]
  },
  {
   "cell_type": "code",
   "execution_count": 13,
   "id": "d9838d06",
   "metadata": {},
   "outputs": [
    {
     "data": {
      "text/plain": [
       "[<models.Answer at 0x11ccb2650>,\n",
       " <models.Answer at 0x11ccb2b50>,\n",
       " <models.Answer at 0x11cc60610>]"
      ]
     },
     "execution_count": 13,
     "metadata": {},
     "output_type": "execute_result"
    }
   ],
   "source": [
    "db.query(Answer).all()"
   ]
  },
  {
   "cell_type": "code",
   "execution_count": 15,
   "id": "9ccbcbb2",
   "metadata": {},
   "outputs": [
    {
     "data": {
      "text/plain": [
       "<models.Question at 0x11cbdbcd0>"
      ]
     },
     "execution_count": 15,
     "metadata": {},
     "output_type": "execute_result"
    }
   ],
   "source": [
    "a.question"
   ]
  },
  {
   "cell_type": "code",
   "execution_count": 16,
   "id": "cc1e6ff8",
   "metadata": {},
   "outputs": [
    {
     "data": {
      "text/plain": [
       "[<models.Answer at 0x11ccb2650>,\n",
       " <models.Answer at 0x11ccb2b50>,\n",
       " <models.Answer at 0x11cc60610>]"
      ]
     },
     "execution_count": 16,
     "metadata": {},
     "output_type": "execute_result"
    }
   ],
   "source": [
    "q.answers"
   ]
  },
  {
   "cell_type": "code",
   "execution_count": 18,
   "id": "36ce4524",
   "metadata": {},
   "outputs": [
    {
     "data": {
      "text/plain": [
       "<models.Question at 0x11cbdbcd0>"
      ]
     },
     "execution_count": 18,
     "metadata": {},
     "output_type": "execute_result"
    }
   ],
   "source": [
    "a.question"
   ]
  },
  {
   "cell_type": "code",
   "execution_count": null,
   "id": "bc23b7a2",
   "metadata": {},
   "outputs": [],
   "source": []
  }
 ],
 "metadata": {
  "kernelspec": {
   "display_name": "myapi (3.11.11)",
   "language": "python",
   "name": "python3"
  },
  "language_info": {
   "codemirror_mode": {
    "name": "ipython",
    "version": 3
   },
   "file_extension": ".py",
   "mimetype": "text/x-python",
   "name": "python",
   "nbconvert_exporter": "python",
   "pygments_lexer": "ipython3",
   "version": "3.11.11"
  }
 },
 "nbformat": 4,
 "nbformat_minor": 5
}
